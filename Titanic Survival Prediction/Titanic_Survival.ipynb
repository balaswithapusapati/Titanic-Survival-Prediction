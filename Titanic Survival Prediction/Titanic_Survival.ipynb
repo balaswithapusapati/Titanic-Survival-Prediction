{
 "cells": [
  {
   "cell_type": "code",
   "execution_count": 226,
   "metadata": {},
   "outputs": [],
   "source": [
    "# Step 1 : Importing Necessary Libraries\n",
    "\n",
    "import pandas as pd\n",
    "from sklearn.tree import DecisionTreeClassifier\n",
    "from sklearn.metrics import accuracy_score,precision_score,recall_score,f1_score,confusion_matrix\n",
    "from sklearn.ensemble import RandomForestClassifier\n",
    "from sklearn.linear_model import LogisticRegression\n",
    "from sklearn.svm import SVC\n",
    "from sklearn.impute import SimpleImputer\n",
    "from sklearn.preprocessing import StandardScaler"
   ]
  },
  {
   "cell_type": "code",
   "execution_count": 227,
   "metadata": {},
   "outputs": [],
   "source": [
    "# Step 2 : Importing Data\n",
    "\n",
    "train_dataset=pd.read_csv('train.csv')\n",
    "test_dataset=pd.read_csv('test.csv')"
   ]
  },
  {
   "cell_type": "code",
   "execution_count": 228,
   "metadata": {},
   "outputs": [],
   "source": [
    "# Step 3 : Data Preprocessing\n",
    "\n",
    "# 3.1 - Handling Missing Values  \n",
    "\n",
    "train_dataset['Age']=train_dataset['Age'].fillna(train_dataset['Age'].median())\n",
    "train_dataset['Embarked']=train_dataset['Embarked'].fillna(train_dataset['Embarked'].mode()[0])\n",
    "test_dataset['Age']=test_dataset['Age'].fillna(test_dataset['Age'].median())\n",
    "test_dataset['Embarked']=test_dataset['Embarked'].fillna(test_dataset['Embarked'].mode()[0])\n",
    "test_dataset['Fare']=test_dataset['Fare'].fillna(test_dataset['Fare'].median())\n",
    "\n",
    "\n",
    "# 3.2 - Dropping irrelevant features\n",
    "\n",
    "train_dataset=train_dataset.drop(columns=['PassengerId','Name','Ticket','Cabin'])\n",
    "test_dataset=test_dataset.drop(columns=['PassengerId','Name','Ticket','Cabin'])\n",
    "\n",
    "# 3.3 - Handling Categorical Data\n",
    "\n",
    "train_dataset=pd.get_dummies(train_dataset,columns=['Sex','Embarked'],drop_first=True)\n",
    "test_dataset=pd.get_dummies(test_dataset,columns=['Sex','Embarked'],drop_first=True)"
   ]
  },
  {
   "cell_type": "code",
   "execution_count": 229,
   "metadata": {},
   "outputs": [],
   "source": [
    "#  Step 4 : Splitting Data into Features and Target\n",
    "\n",
    "x_train=train_dataset.drop('Survived',axis=1)\n",
    "y_train=train_dataset['Survived']\n",
    "\n",
    "x_test=test_dataset"
   ]
  },
  {
   "cell_type": "code",
   "execution_count": 230,
   "metadata": {},
   "outputs": [
    {
     "name": "stdout",
     "output_type": "stream",
     "text": [
      "Accuracy (Train): 0.9798\n",
      "Precision (Train): 0.9939\n",
      "Recall (Train): 0.9532\n",
      "F1-Score (Train): 0.9731\n",
      "Confusion Matrix (Train):\n",
      "[[547   2]\n",
      " [ 16 326]]\n"
     ]
    }
   ],
   "source": [
    "# 1. Decision Tree Model\n",
    "\n",
    "# Step 5 : Selecting Model\n",
    "\n",
    "data_model1=DecisionTreeClassifier(random_state=42)\n",
    "\n",
    "# Step 6 : Training the Model\n",
    "\n",
    "data_model1.fit(x_train,y_train)\n",
    "\n",
    "# Step 7 : Predicting on Test Dataset\n",
    "\n",
    "y_predict1=data_model1.predict(x_test)\n",
    "\n",
    "# Step 8 : Evaluating the Model on Training Data\n",
    "\n",
    "y_train_predict1=data_model1.predict(x_train)\n",
    "\n",
    "# Step 9 : Calculating Metrics\n",
    "\n",
    "accuracy1 = accuracy_score(y_train, y_train_predict1)\n",
    "precision1 = precision_score(y_train, y_train_predict1)\n",
    "recall1 = recall_score(y_train, y_train_predict1)\n",
    "f11 = f1_score(y_train, y_train_predict1)\n",
    "conf_matrix1 = confusion_matrix(y_train, y_train_predict1)\n",
    "\n",
    "# Displaying Results for Train Data\n",
    "\n",
    "print(f'Accuracy (Train): {accuracy1:.4f}')\n",
    "print(f'Precision (Train): {precision1:.4f}')\n",
    "print(f'Recall (Train): {recall1:.4f}')\n",
    "print(f'F1-Score (Train): {f11:.4f}')\n",
    "print('Confusion Matrix (Train):')\n",
    "print(conf_matrix1)"
   ]
  },
  {
   "cell_type": "code",
   "execution_count": 231,
   "metadata": {},
   "outputs": [
    {
     "name": "stdout",
     "output_type": "stream",
     "text": [
      "Accuracy (Train): 0.9798\n",
      "Precision (Train): 0.9909\n",
      "Recall (Train): 0.9561\n",
      "F1-Score (Train): 0.9732\n",
      "Confusion Matrix (Train):\n",
      "[[546   3]\n",
      " [ 15 327]]\n"
     ]
    }
   ],
   "source": [
    "# 2. Random Forest Model\n",
    "\n",
    "# Step 5 : Selecting Model\n",
    "\n",
    "data_model2=RandomForestClassifier(random_state=42)\n",
    "\n",
    "# Step 6 : Training the Model\n",
    "\n",
    "data_model2.fit(x_train,y_train)\n",
    "\n",
    "# Step 7 : Predicting on Test Dataset\n",
    "\n",
    "y_predict2=data_model2.predict(x_test)\n",
    "\n",
    "# Step 8 : Evaluating the Model on Training Data\n",
    "\n",
    "y_train_predict2=data_model2.predict(x_train)\n",
    "\n",
    "# Step 9 : Calculating Metrics\n",
    "\n",
    "accuracy2 = accuracy_score(y_train, y_train_predict2)\n",
    "precision2 = precision_score(y_train, y_train_predict2)\n",
    "recall2 = recall_score(y_train, y_train_predict2)\n",
    "f12 = f1_score(y_train, y_train_predict2)\n",
    "conf_matrix2 = confusion_matrix(y_train, y_train_predict2)\n",
    "\n",
    "# Displaying Results for Train Data\n",
    "\n",
    "print(f'Accuracy (Train): {accuracy2:.4f}')\n",
    "print(f'Precision (Train): {precision2:.4f}')\n",
    "print(f'Recall (Train): {recall2:.4f}')\n",
    "print(f'F1-Score (Train): {f12:.4f}')\n",
    "print('Confusion Matrix (Train):')\n",
    "print(conf_matrix2)"
   ]
  },
  {
   "cell_type": "code",
   "execution_count": 232,
   "metadata": {},
   "outputs": [
    {
     "name": "stdout",
     "output_type": "stream",
     "text": [
      "Accuracy (Train): 0.8002\n",
      "Precision (Train): 0.7595\n",
      "Recall (Train): 0.7018\n",
      "F1-Score (Train): 0.7295\n",
      "Confusion Matrix (Train):\n",
      "[[473  76]\n",
      " [102 240]]\n"
     ]
    }
   ],
   "source": [
    "# 3. Logistic Regression\n",
    "\n",
    "# Step 5 : Selecting Model\n",
    "\n",
    "data_model3=LogisticRegression(max_iter=500, solver='lbfgs')\n",
    "\n",
    "# Step 6 : Training the Model\n",
    "\n",
    "data_model3.fit(x_train,y_train)\n",
    "\n",
    "# Step 7 : Predicting on Test Dataset\n",
    "\n",
    "y_predict3=data_model3.predict(x_test)\n",
    "\n",
    "# Step 8 : Evaluating the Model on Training Data\n",
    "\n",
    "y_train_predict3=data_model3.predict(x_train)\n",
    "\n",
    "# Step 9 : Calculating Metrics\n",
    "\n",
    "accuracy3 = accuracy_score(y_train, y_train_predict3)\n",
    "precision3 = precision_score(y_train, y_train_predict3)\n",
    "recall3 = recall_score(y_train, y_train_predict3)\n",
    "f13 = f1_score(y_train, y_train_predict3)\n",
    "conf_matrix3 = confusion_matrix(y_train, y_train_predict3)\n",
    "\n",
    "# Displaying Results for Train Data\n",
    "\n",
    "print(f'Accuracy (Train): {accuracy3:.4f}')\n",
    "print(f'Precision (Train): {precision3:.4f}')\n",
    "print(f'Recall (Train): {recall3:.4f}')\n",
    "print(f'F1-Score (Train): {f13:.4f}')\n",
    "print('Confusion Matrix (Train):')\n",
    "print(conf_matrix3)"
   ]
  },
  {
   "cell_type": "code",
   "execution_count": 233,
   "metadata": {},
   "outputs": [
    {
     "name": "stdout",
     "output_type": "stream",
     "text": [
      "Accuracy (Train): 0.6835\n",
      "Precision (Train): 0.6974\n",
      "Recall (Train): 0.3099\n",
      "F1-Score (Train): 0.4291\n",
      "Confusion Matrix (Train):\n",
      "[[503  46]\n",
      " [236 106]]\n"
     ]
    }
   ],
   "source": [
    "# 4. Support Vector Machine (SVM)\n",
    "\n",
    "# Step 5 : Selecting Model\n",
    "\n",
    "data_model4=SVC(random_state=42)\n",
    "\n",
    "# Step 6 : Training the Model\n",
    "\n",
    "data_model4.fit(x_train, y_train)\n",
    "\n",
    "# Step 7 : Predicting on Test Dataset\n",
    "\n",
    "y_predict4=data_model4.predict(x_test)\n",
    "\n",
    "# Step 8 : Evaluating the Model on Training Data\n",
    "\n",
    "y_train_predict4=data_model4.predict(x_train)\n",
    "\n",
    "# Step 9 : Calculating Metrics\n",
    "\n",
    "accuracy4 = accuracy_score(y_train,y_train_predict4)\n",
    "precision4 = precision_score(y_train,y_train_predict4)\n",
    "recall4 = recall_score(y_train,y_train_predict4)\n",
    "f14 = f1_score(y_train,y_train_predict4)\n",
    "conf_matrix4 = confusion_matrix(y_train,y_train_predict4)\n",
    "\n",
    "# Displaying Results for Train Data\n",
    "\n",
    "print(f'Accuracy (Train): {accuracy4:.4f}')\n",
    "print(f'Precision (Train): {precision4:.4f}')\n",
    "print(f'Recall (Train): {recall4:.4f}')\n",
    "print(f'F1-Score (Train): {f14:.4f}')\n",
    "print('Confusion Matrix (Train):')\n",
    "print(conf_matrix4)"
   ]
  }
 ],
 "metadata": {
  "kernelspec": {
   "display_name": "Python 3",
   "language": "python",
   "name": "python3"
  },
  "language_info": {
   "codemirror_mode": {
    "name": "ipython",
    "version": 3
   },
   "file_extension": ".py",
   "mimetype": "text/x-python",
   "name": "python",
   "nbconvert_exporter": "python",
   "pygments_lexer": "ipython3",
   "version": "3.12.4"
  }
 },
 "nbformat": 4,
 "nbformat_minor": 2
}
